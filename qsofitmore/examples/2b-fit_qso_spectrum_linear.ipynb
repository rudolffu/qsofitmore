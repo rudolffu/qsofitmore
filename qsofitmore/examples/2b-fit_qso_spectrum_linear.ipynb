{
 "cells": [
  {
   "cell_type": "markdown",
   "metadata": {},
   "source": [
    "# Fit QSO Spectrum (Linear Wavelength + km/s widths)\n\n",
    "This example demonstrates running the line fitting on a linear wavelength axis while specifying line-profile parameters in km/s. It assumes the parameter table CSV/YAML has been converted to km/s (see the earlier CSV/YAML editing notebook)."
   ]
  },
  {
   "cell_type": "code",
   "execution_count": null,
   "metadata": {},
   "outputs": [],
   "source": [
    "# Configure linear axis and km/s velocities BEFORE importing qsofitmore\n",
    "import os\n",
    "os.environ['QSOFITMORE_WAVE_SCALE'] = 'linear'\n",
    "os.environ['QSOFITMORE_VELOCITY_UNITS'] = 'km/s'\n",
    "os.environ['QSOFITMORE_NARROW_MAX_KMS'] = '1200'  # cap for narrow lines\n",
    "\n",
    "# Imports\n",
    "from qsofitmore import QSOFitNew\n",
    "from qsofitmore.line_params_io import csv_to_fits\n",
    "from astropy.table import Table\n",
    "import pandas as pd\n",
    "\n",
    "path = './output/'\n",
    "csv_path = path + 'qsopar.csv'\n",
    "fits_path = path + 'qsopar.fits'\n",
    "\n",
    "# Ensure FITS parameters reflect the CSV values (km/s units).\n",
    "# Header will record velocity units if env is set to km/s.\n",
    "if os.path.exists(csv_path):\n",
    "    csv_to_fits(csv_path, fits_path)\n",
    "else:\n",
    "    print('Expected parameter CSV not found:', csv_path)"
   ]
  },
  {
   "cell_type": "markdown",
   "metadata": {},
   "source": [
    "## Load spectrum and run fitting\n\n",
    "This mirrors the standard example, but uses linear-axis fitting and km/s widths based on the environment above."
   ]
  },
  {
   "cell_type": "code",
   "execution_count": null,
   "metadata": {},
   "outputs": [],
   "source": [
    "# a) From numpy-array-like data (CSV)\n",
    "df = pd.read_csv('./data/spec_J001554.18+560257.5_LJT.csv')\n",
    "q = QSOFitNew(lam=df.lam, flux=df.flux*1e17, err=df.err*1e17,\n",
    "              z=0.1684, ra=3.97576206, dec=56.04931383,\n",
    "              name='J001554.18+560257.5', is_sdss=False, path=path)\n",
    "\n",
    "# Run fitting using the linear axis and km/s widths\n",
    "q.Fit(plot_fig=True, save_result=True, save_fits_path=path)"
   ]
  }
 ],
 "metadata": {
  "kernelspec": {
   "display_name": "base",
   "language": "python",
   "name": "python3"
  },
  "language_info": {
   "codemirror_mode": {
    "name": "ipython",
    "version": 3
   },
   "file_extension": ".py",
   "mimetype": "text/x-python",
   "name": "python",
   "nbconvert_exporter": "python",
   "pygments_lexer": "ipython3",
   "version": "3.10.13"
  }
 },
 "nbformat": 4,
 "nbformat_minor": 4
}

