{
 "cells": [
  {
   "cell_type": "markdown",
   "metadata": {},
   "source": [
    "# Edit Line Parameters via CSV/YAML\n",
    "\n",
    "This notebook demonstrates a more human-friendly workflow for viewing and editing the line parameter list using CSV or YAML, then converting back to the FITS table consumed by qsofitmore.\n",
    "\n",
    "- Exports existing `qsopar.fits` to `qsopar.csv` and optionally `qsopar.yaml`.\n",
    "- You can edit the CSV/YAML in any editor or spreadsheet.\n",
    "- Converts the edited CSV/YAML back to FITS with the exact schema expected by the fitter.\n",
    "\n",
    "Columns preserved (identical to the original schema):\n",
    "`lambda, compname, minwav, maxwav, linename, ngauss, inisig, minsig, maxsig, voff, vindex, windex, findex, fvalue`."
   ]
  },
  {
   "cell_type": "code",
   "execution_count": 1,
   "metadata": {},
   "outputs": [
    {
     "name": "stdout",
     "output_type": "stream",
     "text": [
      "FITS: ./output/qsopar.fits\n",
      "CSV : ./output/qsopar.csv\n",
      "YAML: ./output/qsopar.yaml\n"
     ]
    }
   ],
   "source": [
    "from astropy.table import Table\n",
    "from astropy.io import fits\n",
    "import os, sys, pathlib\n",
    "\n",
    "try:\n",
    "    from qsofitmore.line_params_io import (\n",
    "        fits_to_csv, csv_to_fits,\n",
    "        fits_to_yaml, yaml_to_fits,\n",
    "        write_template_csv, write_template_yaml\n",
    "    )\n",
    "except ModuleNotFoundError:\n",
    "    # Add repo root to sys.path (works when running from examples/)\n",
    "    here = pathlib.Path.cwd()\n",
    "    candidates = [here, here.parent, here.parent.parent, here.parent.parent.parent]\n",
    "    for pth in candidates:\n",
    "        if (pth / 'qsofitmore' / 'line_params_io.py').exists():\n",
    "            sys.path.insert(0, str(pth))\n",
    "            break\n",
    "    from qsofitmore.line_params_io import (\n",
    "        fits_to_csv, csv_to_fits,\n",
    "        fits_to_yaml, yaml_to_fits,\n",
    "        write_template_csv, write_template_yaml\n",
    "    )\n",
    "\n",
    "path = './output/'  # keep consistent with other examples\n",
    "fits_path = os.path.join(path, 'qsopar.fits')\n",
    "csv_path = os.path.join(path, 'qsopar.csv')\n",
    "yaml_path = os.path.join(path, 'qsopar.yaml')\n",
    "\n",
    "print('FITS:', fits_path)\n",
    "print('CSV :', csv_path)\n",
    "print('YAML:', yaml_path)"
   ]
  },
  {
   "cell_type": "markdown",
   "metadata": {},
   "source": [
    "## Export current FITS to CSV/YAML\n",
    "\n",
    "If `qsopar.fits` exists, export it to CSV (always) and YAML (if `pyyaml` is installed).\n",
    "YAML is optional but nice for readability and comments."
   ]
  },
  {
   "cell_type": "code",
   "execution_count": 2,
   "metadata": {},
   "outputs": [
    {
     "name": "stdout",
     "output_type": "stream",
     "text": [
      "Exporting FITS -> CSV ...\n",
      "Wrote ./output/qsopar.csv\n",
      "Wrote ./output/qsopar.yaml\n"
     ]
    }
   ],
   "source": [
    "if os.path.exists(fits_path):\n",
    "    print('Exporting FITS -> CSV ...')\n",
    "    fits_to_csv(fits_path, csv_path)\n",
    "    print('Wrote', csv_path)\n",
    "\n",
    "    # Try YAML export if PyYAML is available\n",
    "    try:\n",
    "        fits_to_yaml(fits_path, yaml_path)\n",
    "        print('Wrote', yaml_path)\n",
    "    except Exception as e:\n",
    "        print('YAML export skipped:', e)\n",
    "else:\n",
    "    print('No FITS file found at', fits_path)\n",
    "    print('You can still create blank templates below.')"
   ]
  },
  {
   "cell_type": "markdown",
   "metadata": {},
   "source": [
    "## Preview CSV\n",
    "\n",
    "Load the CSV into an Astropy Table to inspect the column order and a few rows."
   ]
  },
  {
   "cell_type": "code",
   "execution_count": 3,
   "metadata": {},
   "outputs": [
    {
     "name": "stdout",
     "output_type": "stream",
     "text": [
      "['lambda', 'compname', 'minwav', 'maxwav', 'linename', 'ngauss', 'inisig', 'minsig', 'maxsig', 'voff', 'vindex', 'windex', 'findex', 'fvalue']\n"
     ]
    }
   ],
   "source": [
    "if os.path.exists(csv_path):\n",
    "    t = Table.read(csv_path, format='csv')\n",
    "    print(t.colnames)\n",
    "    t[:5]  # display first 5 rows\n",
    "else:\n",
    "    print('CSV not found. Run the export cell above or create a template below.')"
   ]
  },
  {
   "cell_type": "markdown",
   "metadata": {},
   "source": [
    "## Create CSV/YAML templates (optional)\n",
    "\n",
    "If you want to start from scratch or add a new set, use these helpers to write empty templates you can fill in by hand."
   ]
  },
  {
   "cell_type": "code",
   "execution_count": 4,
   "metadata": {},
   "outputs": [],
   "source": [
    "# Uncomment to generate blank templates\n",
    "# write_template_csv(csv_path)\n",
    "# try:\n",
    "#     write_template_yaml(yaml_path)\n",
    "# except Exception as e:\n",
    "#     print('YAML template skipped:', e)\n",
    "# print('Templates written to', path)"
   ]
  },
  {
   "cell_type": "markdown",
   "metadata": {},
   "source": [
    "## Edit the CSV/YAML\n",
    "\n",
    "- Open `qsopar.csv` (or `qsopar.yaml`) in your editor or spreadsheet.\n",
    "- Keep the header columns unchanged.\n",
    "- Save your edits back to the same file.\n",
    "\n",
    "Field notes:\n",
    "- `lambda`: vacuum wavelength in Angstroms.\n",
    "- `compname`: short component group name (e.g. Ha, Hb, MgII).\n",
    "- `minwav`/`maxwav`: fitting window for the complex.\n",
    "- `linename`: unique line identifier (e.g. OIII5007).\n",
    "- `ngauss`: number of Gaussians for the line.\n",
    "- `inisig`/`minsig`/`maxsig`: sigma ranges (in ln(lambda)).\n",
    "- `voff`: velocity offset limit (ln(lambda)).\n",
    "- `vindex`/`windex`: tie indices (>0 ties among same index).\n",
    "- `findex`/`fvalue`: flux ratio ties (same index shares fixed ratios)."
   ]
  },
  {
   "cell_type": "markdown",
   "metadata": {},
   "source": [
    "## Convert edited CSV/YAML back to FITS\n",
    "\n",
    "This produces `qsopar.fits` with the exact schema expected by the fitter. If an original FITS exists, its header comments are preserved."
   ]
  },
  {
   "cell_type": "code",
   "execution_count": 5,
   "metadata": {},
   "outputs": [
    {
     "name": "stdout",
     "output_type": "stream",
     "text": [
      "CSV -> FITS ...\n",
      "Wrote ./output/qsopar.fits\n"
     ]
    }
   ],
   "source": [
    "orig_header = None\n",
    "if os.path.exists(fits_path):\n",
    "    with fits.open(fits_path) as hdul:\n",
    "        # Assume the parameter table is the first BinTable extension\n",
    "        for hdu in hdul:\n",
    "            if isinstance(hdu, fits.BinTableHDU):\n",
    "                orig_header = hdu.header\n",
    "                break\n",
    "\n",
    "if os.path.exists(csv_path):\n",
    "    print('CSV -> FITS ...')\n",
    "    csv_to_fits(csv_path, fits_path, header=orig_header)\n",
    "    print('Wrote', fits_path)\n",
    "elif os.path.exists(yaml_path):\n",
    "    print('YAML -> FITS ...')\n",
    "    try:\n",
    "        yaml_to_fits(yaml_path, fits_path, header=orig_header)\n",
    "        print('Wrote', fits_path)\n",
    "    except Exception as e:\n",
    "        print('YAML import failed:', e)\n",
    "else:\n",
    "    print('Neither CSV nor YAML found to import.')"
   ]
  },
  {
   "cell_type": "markdown",
   "metadata": {},
   "source": [
    "## Sanity check\n",
    "\n",
    "Open the new FITS and show a quick preview."
   ]
  },
  {
   "cell_type": "code",
   "execution_count": 6,
   "metadata": {},
   "outputs": [
    {
     "name": "stdout",
     "output_type": "stream",
     "text": [
      "Rows: 20\n"
     ]
    }
   ],
   "source": [
    "if os.path.exists(fits_path):\n",
    "    t2 = Table.read(fits_path)\n",
    "    print('Rows:', len(t2))\n",
    "    t2[:5]\n",
    "else:\n",
    "    print('FITS not found. Did the conversion step succeed?')"
   ]
  },
  {
   "cell_type": "code",
   "execution_count": null,
   "metadata": {},
   "outputs": [],
   "source": []
  }
 ],
 "metadata": {
  "kernelspec": {
   "display_name": "base",
   "language": "python",
   "name": "python3"
  },
  "language_info": {
   "codemirror_mode": {
    "name": "ipython",
    "version": 3
   },
   "file_extension": ".py",
   "mimetype": "text/x-python",
   "name": "python",
   "nbconvert_exporter": "python",
   "pygments_lexer": "ipython3",
   "version": "3.12.11"
  }
 },
 "nbformat": 4,
 "nbformat_minor": 4
}
