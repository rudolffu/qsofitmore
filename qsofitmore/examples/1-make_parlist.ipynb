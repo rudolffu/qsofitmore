{
 "cells": [
  {
   "cell_type": "markdown",
   "metadata": {},
   "source": [
    "### 2.1 Generate line parameter file\n",
    "\n",
    "The following script of generating `qsopar.fits` is based on https://github.com/legolason/PyQSOFit/blob/master/example/example.ipynb"
   ]
  },
  {
   "cell_type": "code",
   "execution_count": 1,
   "metadata": {
    "ExecuteTime": {
     "end_time": "2021-08-05T04:11:58.251525Z",
     "start_time": "2021-08-05T04:11:53.888719Z"
    }
   },
   "outputs": [],
   "source": [
    "import numpy as np\n",
    "from astropy.io import fits\n",
    "from astropy.table import Table\n",
    "path='./output/'"
   ]
  },
  {
   "cell_type": "code",
   "execution_count": 2,
   "metadata": {
    "ExecuteTime": {
     "end_time": "2021-08-05T04:34:24.495487Z",
     "start_time": "2021-08-05T04:34:24.429145Z"
    }
   },
   "outputs": [],
   "source": [
    "newdata = np.rec.array([(6564.61,'Ha',6400.,6800.,'Ha_br',3,5e-3,0.003,0.01,0.005,0,0,0,0.05),\\\n",
    "                        (6564.61,'Ha',6400.,6800.,'Ha_na',1,1e-3,5e-4,0.0017,0.01,1,1,0,0.002),\\\n",
    "                        (6549.85,'Ha',6400.,6800.,'NII6549',1,1e-3,2.3e-4,0.0017,5e-3,1,1,1,0.001),\\\n",
    "                        (6585.28,'Ha',6400.,6800.,'NII6585',1,1e-3,2.3e-4,0.0017,5e-3,1,1,1,0.003),\\\n",
    "                        (6718.29,'Ha',6400.,6800.,'SII6718',1,1e-3,2.3e-4,0.0017,5e-3,1,1,2,0.001),\\\n",
    "                        (6732.67,'Ha',6400.,6800.,'SII6732',1,1e-3,2.3e-4,0.0017,5e-3,1,1,2,0.001),\\\n",
    "                        \n",
    "                        (4862.68,'Hb',4640.,5100.,'Hb_br',3,5e-3,0.003,0.01,0.003,0,0,0,0.01),\\\n",
    "                        (4862.68,'Hb',4640.,5100.,'Hb_na',1,1e-3,2.3e-4,0.0017,0.01,1,1,0,0.002),\\\n",
    "                        (4960.30,'Hb',4640.,5100.,'OIII4959',1,1e-3,2.3e-4,0.0017,0.01,1,1,0,0.002),\\\n",
    "                        (5008.24,'Hb',4640.,5100.,'OIII5007',1,1e-3,2.3e-4,0.0017,0.01,1,1,0,0.004),\\\n",
    "                        (4955.30,'Hb',4640.,5100.,'OIII4959w',1,1e-3,2.3e-4,0.0017,0.01,2,2,0,0.001),\\\n",
    "                        (4995.24,'Hb',4640.,5100.,'OIII5007w',1,1e-3,2.3e-4,0.0017,0.01,2,2,0,0.002),\\\n",
    "                        # (4687.02,'Hb',4640.,5100.,'HeII4687_br',1,5e-3,0.004,0.05,0.005,0,0,0,0.001),\\\n",
    "                        # (4687.02,'Hb',4640.,5100.,'HeII4687_na',1,1e-3,2.3e-4,0.0017,0.005,1,1,0,0.001),\\\n",
    "                        (4341.68,'Hg',4250.,4440.,'Hg_br',1,5e-3,0.004,0.025,0.0017,0,0,0,0.05),\\\n",
    "                        (4341.68,'Hg',4250.,4440.,'Hg_na',1,1e-3,2.3e-4,0.0017,5e-3,1,1,0,0.001),\\\n",
    "                        # (4364.44,'Hg',4250.,4440.,'OIII4364',1,1e-3,2.3e-4,0.0017,5e-3,1,1,2,0.001),\\\n",
    "                        #( 3934.78,'CaII',3900.,3960.,'CaII3934',2,1e-3,3.333e-4,0.0017,0.01,99,0,0,-0.001),\\\n",
    "                        \n",
    "                        (3728.48,'OII',3650.,3800.,'OII3728',1,1e-3,3.333e-4,0.0017,0.01,1,1,0,0.001),\\\n",
    "                        \n",
    "                        (3426.84,'NeV',3380.,3480.,'NeV3426',1,1e-3,3.333e-4,0.0017,0.005,0,0,0,0.001),\\\n",
    "                        \n",
    "                        (2798.75,'MgII',2700.,2900.,'MgII_br',2,5e-3,0.004,0.015,0.0017,0,0,0,0.05),\\\n",
    "                        (2798.75,'MgII',2700.,2900.,'MgII_na',1,1e-3,2.3e-4,0.0017,0.01,0,0,0,0.002),\\\n",
    "                        \n",
    "                        \n",
    "                        (1908.73,'CIII',1700.,1970.,'CIII_br',2,5e-3,0.004,0.015,0.015,99,0,0,0.01),\\\n",
    "                        #(1908.73,'CIII',1700.,1970.,'CIII_na',1,1e-3,5e-4,0.0017,0.01,1,1,0,0.002),\\\n",
    "                        #(1892.03,'CIII',1700.,1970.,'SiIII1892',1,2e-3,0.001,0.015,0.003,1,1,0,0.005),\\\n",
    "                        #(1857.40,'CIII',1700.,1970.,'AlIII1857',1,2e-3,0.001,0.015,0.003,1,1,0,0.005),\\\n",
    "                        #(1816.98,'CIII',1700.,1970.,'SiII1816',1,2e-3,0.001,0.015,0.01,1,1,0,0.0002),\\\n",
    "                        #(1786.7,'CIII',1700.,1970.,'FeII1787',1,2e-3,0.001,0.015,0.01,1,1,0,0.0002),\\\n",
    "                        #(1750.26,'CIII',1700.,1970.,'NIII1750',1,2e-3,0.001,0.015,0.01,1,1,0,0.001),\\\n",
    "                        #(1718.55,'CIII',1700.,1900.,'NIV1718',1,2e-3,0.001,0.015,0.01,1,1,0,0.001),\\\n",
    "                        \n",
    "                        (1549.06,'CIV',1500.,1700.,'CIV_br',3,5e-3,0.004,0.015,0.015,0,0,0,0.05),\\\n",
    "#                         (1549.06,'CIV',1500.,1700.,'CIV_na',1,1e-3,5e-4,0.0017,0.01,1,1,0,0.002),\\\n",
    "                        #(1640.42,'CIV',1500.,1700.,'HeII1640',1,1e-3,5e-4,0.0017,0.008,1,1,0,0.002),\\\n",
    "                        #(1663.48,'CIV',1500.,1700.,'OIII1663',1,1e-3,5e-4,0.0017,0.008,1,1,0,0.002),\\\n",
    "                        #(1640.42,'CIV',1500.,1700.,'HeII1640_br',1,5e-3,0.0025,0.02,0.008,1,1,0,0.002),\\\n",
    "                        #(1663.48,'CIV',1500.,1700.,'OIII1663_br',1,5e-3,0.0025,0.02,0.008,1,1,0,0.002),\\\n",
    "                        \n",
    "                        #(1402.06,'SiIV',1290.,1450.,'SiIV_OIV1',1,5e-3,0.002,0.05,0.015,1,1,0,0.05),\\\n",
    "                        #(1396.76,'SiIV',1290.,1450.,'SiIV_OIV2',1,5e-3,0.002,0.05,0.015,1,1,0,0.05),\\\n",
    "                        #(1335.30,'SiIV',1290.,1450.,'CII1335',1,2e-3,0.001,0.015,0.01,1,1,0,0.001),\\\n",
    "                        #(1304.35,'SiIV',1290.,1450.,'OI1304',1,2e-3,0.001,0.015,0.01,1,1,0,0.001),\\\n",
    "                        \n",
    "                        # (1215.67,'Lya',1150.,1290.,'Lya_br',3,5e-3,0.004,0.05,0.02,0,0,0,0.05),\\\n",
    "                        # (1215.67,'Lya',1150.,1290.,'Lya_na',1,1e-3,5e-4,0.0017,0.01,0,0,0,0.002),\\\n",
    "                        # (1240.14,'Lya',1150.,1290.,'NV',1,1e-3,5e-4,0.0017,0.01,0,0,0,0.002)\\\n",
    "                        ],\\\n",
    "                     formats='float32,a20,float32,float32,a20,float32,float32,float32,float32,\\\n",
    "                     float32,float32,float32,float32,float32',\\\n",
    "                     names='lambda,compname,minwav,maxwav,linename,ngauss,inisig,minsig,maxsig,voff,vindex,windex,findex,fvalue')\n",
    "#------header-----------------\n",
    "hdr = fits.Header()\n",
    "hdr['lambda'] = 'Vacuum Wavelength in Ang'\n",
    "hdr['minwav'] = 'Lower complex fitting wavelength range'\n",
    "hdr['maxwav'] = 'Upper complex fitting wavelength range'\n",
    "hdr['ngauss'] = 'Number of Gaussians for the line'\n",
    "hdr['inisig'] = 'Initial guess of Gaussian sigma (model-axis units; legacy: ln(lambda); optional: km/s)'\n",
    "hdr['minsig'] = 'Lower bound of sigma (model-axis units; legacy: ln(lambda); optional: km/s)'  \n",
    "hdr['maxsig'] = 'Upper bound of sigma (model-axis units; legacy: ln(lambda); optional: km/s)'\n",
    "hdr['voff  '] = 'Velocity offset limit around center (legacy: ln(lambda); optional: km/s)'\n",
    "hdr['vindex'] = 'Entries w/ same NONZERO vindex constrained to have same velocity'\n",
    "hdr['windex'] = 'Entries w/ same NONZERO windex constrained to have same width'\n",
    "hdr['findex'] = 'Entries w/ same NONZERO findex have constrained flux ratios'\n",
    "hdr['fvalue'] = 'Relative scale factor for entries w/ same findex'"
   ]
  },
  {
   "cell_type": "code",
   "execution_count": 3,
   "metadata": {},
   "outputs": [
    {
     "data": {
      "text/html": [
       "<div><i>Table length=20</i>\n",
       "<table id=\"table4808607536\" class=\"table-striped table-bordered table-condensed\">\n",
       "<thead><tr><th>lambda</th><th>compname</th><th>minwav</th><th>maxwav</th><th>linename</th><th>ngauss</th><th>inisig</th><th>minsig</th><th>maxsig</th><th>voff</th><th>vindex</th><th>windex</th><th>findex</th><th>fvalue</th></tr></thead>\n",
       "<thead><tr><th>float32</th><th>bytes20</th><th>float32</th><th>float32</th><th>bytes20</th><th>float32</th><th>float32</th><th>float32</th><th>float32</th><th>float32</th><th>float32</th><th>float32</th><th>float32</th><th>float32</th></tr></thead>\n",
       "<tr><td>6564.61</td><td>Ha</td><td>6400.0</td><td>6800.0</td><td>Ha_br</td><td>3.0</td><td>0.005</td><td>0.003</td><td>0.01</td><td>0.005</td><td>0.0</td><td>0.0</td><td>0.0</td><td>0.05</td></tr>\n",
       "<tr><td>6564.61</td><td>Ha</td><td>6400.0</td><td>6800.0</td><td>Ha_na</td><td>1.0</td><td>0.001</td><td>0.0005</td><td>0.0017</td><td>0.01</td><td>1.0</td><td>1.0</td><td>0.0</td><td>0.002</td></tr>\n",
       "<tr><td>6549.85</td><td>Ha</td><td>6400.0</td><td>6800.0</td><td>NII6549</td><td>1.0</td><td>0.001</td><td>0.00023</td><td>0.0017</td><td>0.005</td><td>1.0</td><td>1.0</td><td>1.0</td><td>0.001</td></tr>\n",
       "<tr><td>6585.28</td><td>Ha</td><td>6400.0</td><td>6800.0</td><td>NII6585</td><td>1.0</td><td>0.001</td><td>0.00023</td><td>0.0017</td><td>0.005</td><td>1.0</td><td>1.0</td><td>1.0</td><td>0.003</td></tr>\n",
       "<tr><td>6718.29</td><td>Ha</td><td>6400.0</td><td>6800.0</td><td>SII6718</td><td>1.0</td><td>0.001</td><td>0.00023</td><td>0.0017</td><td>0.005</td><td>1.0</td><td>1.0</td><td>2.0</td><td>0.001</td></tr>\n",
       "<tr><td>6732.67</td><td>Ha</td><td>6400.0</td><td>6800.0</td><td>SII6732</td><td>1.0</td><td>0.001</td><td>0.00023</td><td>0.0017</td><td>0.005</td><td>1.0</td><td>1.0</td><td>2.0</td><td>0.001</td></tr>\n",
       "<tr><td>4862.68</td><td>Hb</td><td>4640.0</td><td>5100.0</td><td>Hb_br</td><td>3.0</td><td>0.005</td><td>0.003</td><td>0.01</td><td>0.003</td><td>0.0</td><td>0.0</td><td>0.0</td><td>0.01</td></tr>\n",
       "<tr><td>4862.68</td><td>Hb</td><td>4640.0</td><td>5100.0</td><td>Hb_na</td><td>1.0</td><td>0.001</td><td>0.00023</td><td>0.0017</td><td>0.01</td><td>1.0</td><td>1.0</td><td>0.0</td><td>0.002</td></tr>\n",
       "<tr><td>4960.3</td><td>Hb</td><td>4640.0</td><td>5100.0</td><td>OIII4959</td><td>1.0</td><td>0.001</td><td>0.00023</td><td>0.0017</td><td>0.01</td><td>1.0</td><td>1.0</td><td>0.0</td><td>0.002</td></tr>\n",
       "<tr><td>5008.24</td><td>Hb</td><td>4640.0</td><td>5100.0</td><td>OIII5007</td><td>1.0</td><td>0.001</td><td>0.00023</td><td>0.0017</td><td>0.01</td><td>1.0</td><td>1.0</td><td>0.0</td><td>0.004</td></tr>\n",
       "<tr><td>4955.3</td><td>Hb</td><td>4640.0</td><td>5100.0</td><td>OIII4959w</td><td>1.0</td><td>0.001</td><td>0.00023</td><td>0.0017</td><td>0.01</td><td>2.0</td><td>2.0</td><td>0.0</td><td>0.001</td></tr>\n",
       "<tr><td>4995.24</td><td>Hb</td><td>4640.0</td><td>5100.0</td><td>OIII5007w</td><td>1.0</td><td>0.001</td><td>0.00023</td><td>0.0017</td><td>0.01</td><td>2.0</td><td>2.0</td><td>0.0</td><td>0.002</td></tr>\n",
       "<tr><td>4341.68</td><td>Hg</td><td>4250.0</td><td>4440.0</td><td>Hg_br</td><td>1.0</td><td>0.005</td><td>0.004</td><td>0.025</td><td>0.0017</td><td>0.0</td><td>0.0</td><td>0.0</td><td>0.05</td></tr>\n",
       "<tr><td>4341.68</td><td>Hg</td><td>4250.0</td><td>4440.0</td><td>Hg_na</td><td>1.0</td><td>0.001</td><td>0.00023</td><td>0.0017</td><td>0.005</td><td>1.0</td><td>1.0</td><td>0.0</td><td>0.001</td></tr>\n",
       "<tr><td>3728.48</td><td>OII</td><td>3650.0</td><td>3800.0</td><td>OII3728</td><td>1.0</td><td>0.001</td><td>0.0003333</td><td>0.0017</td><td>0.01</td><td>1.0</td><td>1.0</td><td>0.0</td><td>0.001</td></tr>\n",
       "<tr><td>3426.84</td><td>NeV</td><td>3380.0</td><td>3480.0</td><td>NeV3426</td><td>1.0</td><td>0.001</td><td>0.0003333</td><td>0.0017</td><td>0.005</td><td>0.0</td><td>0.0</td><td>0.0</td><td>0.001</td></tr>\n",
       "<tr><td>2798.75</td><td>MgII</td><td>2700.0</td><td>2900.0</td><td>MgII_br</td><td>2.0</td><td>0.005</td><td>0.004</td><td>0.015</td><td>0.0017</td><td>0.0</td><td>0.0</td><td>0.0</td><td>0.05</td></tr>\n",
       "<tr><td>2798.75</td><td>MgII</td><td>2700.0</td><td>2900.0</td><td>MgII_na</td><td>1.0</td><td>0.001</td><td>0.00023</td><td>0.0017</td><td>0.01</td><td>0.0</td><td>0.0</td><td>0.0</td><td>0.002</td></tr>\n",
       "<tr><td>1908.73</td><td>CIII</td><td>1700.0</td><td>1970.0</td><td>CIII_br</td><td>2.0</td><td>0.005</td><td>0.004</td><td>0.015</td><td>0.015</td><td>99.0</td><td>0.0</td><td>0.0</td><td>0.01</td></tr>\n",
       "<tr><td>1549.06</td><td>CIV</td><td>1500.0</td><td>1700.0</td><td>CIV_br</td><td>3.0</td><td>0.005</td><td>0.004</td><td>0.015</td><td>0.015</td><td>0.0</td><td>0.0</td><td>0.0</td><td>0.05</td></tr>\n",
       "</table></div>"
      ],
      "text/plain": [
       "<Table length=20>\n",
       " lambda compname  minwav  maxwav  linename ...  vindex  windex  findex  fvalue\n",
       "float32 bytes20  float32 float32  bytes20  ... float32 float32 float32 float32\n",
       "------- -------- ------- ------- --------- ... ------- ------- ------- -------\n",
       "6564.61       Ha  6400.0  6800.0     Ha_br ...     0.0     0.0     0.0    0.05\n",
       "6564.61       Ha  6400.0  6800.0     Ha_na ...     1.0     1.0     0.0   0.002\n",
       "6549.85       Ha  6400.0  6800.0   NII6549 ...     1.0     1.0     1.0   0.001\n",
       "6585.28       Ha  6400.0  6800.0   NII6585 ...     1.0     1.0     1.0   0.003\n",
       "6718.29       Ha  6400.0  6800.0   SII6718 ...     1.0     1.0     2.0   0.001\n",
       "6732.67       Ha  6400.0  6800.0   SII6732 ...     1.0     1.0     2.0   0.001\n",
       "4862.68       Hb  4640.0  5100.0     Hb_br ...     0.0     0.0     0.0    0.01\n",
       "4862.68       Hb  4640.0  5100.0     Hb_na ...     1.0     1.0     0.0   0.002\n",
       " 4960.3       Hb  4640.0  5100.0  OIII4959 ...     1.0     1.0     0.0   0.002\n",
       "5008.24       Hb  4640.0  5100.0  OIII5007 ...     1.0     1.0     0.0   0.004\n",
       " 4955.3       Hb  4640.0  5100.0 OIII4959w ...     2.0     2.0     0.0   0.001\n",
       "4995.24       Hb  4640.0  5100.0 OIII5007w ...     2.0     2.0     0.0   0.002\n",
       "4341.68       Hg  4250.0  4440.0     Hg_br ...     0.0     0.0     0.0    0.05\n",
       "4341.68       Hg  4250.0  4440.0     Hg_na ...     1.0     1.0     0.0   0.001\n",
       "3728.48      OII  3650.0  3800.0   OII3728 ...     1.0     1.0     0.0   0.001\n",
       "3426.84      NeV  3380.0  3480.0   NeV3426 ...     0.0     0.0     0.0   0.001\n",
       "2798.75     MgII  2700.0  2900.0   MgII_br ...     0.0     0.0     0.0    0.05\n",
       "2798.75     MgII  2700.0  2900.0   MgII_na ...     0.0     0.0     0.0   0.002\n",
       "1908.73     CIII  1700.0  1970.0   CIII_br ...    99.0     0.0     0.0    0.01\n",
       "1549.06      CIV  1500.0  1700.0    CIV_br ...     0.0     0.0     0.0    0.05"
      ]
     },
     "execution_count": 3,
     "metadata": {},
     "output_type": "execute_result"
    }
   ],
   "source": [
    "Table(newdata)"
   ]
  },
  {
   "cell_type": "code",
   "execution_count": 4,
   "metadata": {},
   "outputs": [],
   "source": [
    "#------save line info-----------\n",
    "hdu = fits.BinTableHDU(data=newdata,header=hdr,name='data')\n",
    "hdu.writeto(path+'qsopar.fits',overwrite=True)"
   ]
  },
  {
   "cell_type": "code",
   "execution_count": null,
   "metadata": {},
   "outputs": [],
   "source": []
  }
 ],
 "metadata": {
  "kernelspec": {
   "display_name": "base",
   "language": "python",
   "name": "python3"
  },
  "language_info": {
   "codemirror_mode": {
    "name": "ipython",
    "version": 3
   },
   "file_extension": ".py",
   "mimetype": "text/x-python",
   "name": "python",
   "nbconvert_exporter": "python",
   "pygments_lexer": "ipython3",
   "version": "3.10.13"
  }
 },
 "nbformat": 4,
 "nbformat_minor": 4
}
