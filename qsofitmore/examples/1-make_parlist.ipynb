{
 "cells": [
  {
   "cell_type": "markdown",
   "source": [
    "### 2.1 Generate line parameter file\n",
    "\n",
    "The following script of generating `qsopar.fits` is based on https://github.com/legolason/PyQSOFit/blob/master/example/example.ipynb"
   ],
   "metadata": {}
  },
  {
   "cell_type": "code",
   "execution_count": 3,
   "source": [
    "import numpy as np\n",
    "from astropy.io import fits\n",
    "path='./output/'"
   ],
   "outputs": [],
   "metadata": {
    "ExecuteTime": {
     "end_time": "2021-08-05T04:11:58.251525Z",
     "start_time": "2021-08-05T04:11:53.888719Z"
    }
   }
  },
  {
   "cell_type": "code",
   "execution_count": 4,
   "source": [
    "newdata = np.rec.array([(6564.61,'Ha',6400.,6800.,'Ha_br',3,5e-3,0.004,0.017,0.015,0,0,0,0.05),\\\n",
    "                        (6564.61,'Ha',6400.,6800.,'Ha_na',1,1e-3,5e-4,0.0017,0.01,1,1,0,0.002),\\\n",
    "                        (6549.85,'Ha',6400.,6800.,'NII6549',1,1e-3,2.3e-4,0.0017,5e-3,1,1,1,0.001),\\\n",
    "                        (6585.28,'Ha',6400.,6800.,'NII6585',1,1e-3,2.3e-4,0.0017,5e-3,1,1,1,0.003),\\\n",
    "                        (6718.29,'Ha',6400.,6800.,'SII6718',1,1e-3,2.3e-4,0.0017,5e-3,1,1,2,0.001),\\\n",
    "                        (6732.67,'Ha',6400.,6800.,'SII6732',1,1e-3,2.3e-4,0.0017,5e-3,1,1,2,0.001),\\\n",
    "                        \n",
    "                        (4862.68,'Hb',4640.,5100.,'Hb_br',3,5e-3,0.004,0.022,0.01,0,0,0,0.01),\\\n",
    "                        (4862.68,'Hb',4640.,5100.,'Hb_na',1,1e-3,2.3e-4,0.0017,0.01,1,1,0,0.002),\\\n",
    "                        (4960.30,'Hb',4640.,5100.,'OIII4959',1,1e-3,2.3e-4,0.0017,0.01,1,1,0,0.002),\\\n",
    "                        (5008.24,'Hb',4640.,5100.,'OIII5007',1,1e-3,2.3e-4,0.0017,0.01,1,1,0,0.004),\\\n",
    "                        # (4960.30,'Hb',4640.,5100.,'OIII4959w',1,3e-3,2.3e-4,0.002,0.01,1,1,0,0.001),\\\n",
    "                        # (5008.24,'Hb',4640.,5100.,'OIII5007w',1,3e-3,2.3e-4,0.002,0.01,1,1,0,0.002),\\\n",
    "                        # (4687.02,'Hb',4640.,5100.,'HeII4687_br',1,5e-3,0.004,0.05,0.005,0,0,0,0.001),\\\n",
    "                        # (4687.02,'Hb',4640.,5100.,'HeII4687_na',1,1e-3,2.3e-4,0.0017,0.005,1,1,0,0.001),\\\n",
    "                        # (4341.68,'Hg',4250.,4440.,'Hg_br',1,5e-3,0.004,0.025,0.0017,0,0,0,0.05),\\\n",
    "                        # (4341.68,'Hg',4250.,4440.,'Hg_na',1,1e-3,2.3e-4,0.0017,5e-3,1,1,2,0.001),\\\n",
    "                        # (4364.44,'Hg',4250.,4440.,'OIII4364',1,1e-3,2.3e-4,0.0017,5e-3,1,1,2,0.001),\\\n",
    "                        #(3934.78,'CaII',3900.,3960.,'CaII3934',2,1e-3,3.333e-4,0.0017,0.01,99,0,0,-0.001),\\\n",
    "                        \n",
    "                        # (3728.48,'OII',3650.,3800.,'OII3728',1,1e-3,3.333e-4,0.0017,0.01,1,1,0,0.001),\\\n",
    "                        \n",
    "                        #(3426.84,'NeV',3380.,3480.,'NeV3426',1,1e-3,3.333e-4,0.0017,0.01,0,0,0,0.001),\\\n",
    "                        #(3426.84,'NeV',3380.,3480.,'NeV3426_br',1,5e-3,0.0025,0.02,0.01,0,0,0,0.001),\\\n",
    "                        \n",
    "                        (2798.75,'MgII',2700.,2900.,'MgII_br',1,5e-3,0.004,0.015,0.0017,0,0,0,0.05),\\\n",
    "                        (2798.75,'MgII',2700.,2900.,'MgII_na',2,1e-3,5e-4,0.0017,0.01,1,1,0,0.002),\\\n",
    "                        \n",
    "                        \n",
    "                        (1908.73,'CIII',1700.,1970.,'CIII_br',2,5e-3,0.004,0.015,0.015,99,0,0,0.01),\\\n",
    "                        #(1908.73,'CIII',1700.,1970.,'CIII_na',1,1e-3,5e-4,0.0017,0.01,1,1,0,0.002),\\\n",
    "                        #(1892.03,'CIII',1700.,1970.,'SiIII1892',1,2e-3,0.001,0.015,0.003,1,1,0,0.005),\\\n",
    "                        #(1857.40,'CIII',1700.,1970.,'AlIII1857',1,2e-3,0.001,0.015,0.003,1,1,0,0.005),\\\n",
    "                        #(1816.98,'CIII',1700.,1970.,'SiII1816',1,2e-3,0.001,0.015,0.01,1,1,0,0.0002),\\\n",
    "                        #(1786.7,'CIII',1700.,1970.,'FeII1787',1,2e-3,0.001,0.015,0.01,1,1,0,0.0002),\\\n",
    "                        #(1750.26,'CIII',1700.,1970.,'NIII1750',1,2e-3,0.001,0.015,0.01,1,1,0,0.001),\\\n",
    "                        #(1718.55,'CIII',1700.,1900.,'NIV1718',1,2e-3,0.001,0.015,0.01,1,1,0,0.001),\\\n",
    "                        \n",
    "                        (1549.06,'CIV',1500.,1700.,'CIV_br',2,5e-3,0.004,0.015,0.015,0,0,0,0.05),\\\n",
    "                        #(1549.06,'CIV',1500.,1700.,'CIV_na',1,1e-3,5e-4,0.0017,0.01,1,1,0,0.002),\\\n",
    "                        #(1640.42,'CIV',1500.,1700.,'HeII1640',1,1e-3,5e-4,0.0017,0.008,1,1,0,0.002),\\\n",
    "                        #(1663.48,'CIV',1500.,1700.,'OIII1663',1,1e-3,5e-4,0.0017,0.008,1,1,0,0.002),\\\n",
    "                        #(1640.42,'CIV',1500.,1700.,'HeII1640_br',1,5e-3,0.0025,0.02,0.008,1,1,0,0.002),\\\n",
    "                        #(1663.48,'CIV',1500.,1700.,'OIII1663_br',1,5e-3,0.0025,0.02,0.008,1,1,0,0.002),\\\n",
    "                        \n",
    "                        #(1402.06,'SiIV',1290.,1450.,'SiIV_OIV1',1,5e-3,0.002,0.05,0.015,1,1,0,0.05),\\\n",
    "                        #(1396.76,'SiIV',1290.,1450.,'SiIV_OIV2',1,5e-3,0.002,0.05,0.015,1,1,0,0.05),\\\n",
    "                        #(1335.30,'SiIV',1290.,1450.,'CII1335',1,2e-3,0.001,0.015,0.01,1,1,0,0.001),\\\n",
    "                        #(1304.35,'SiIV',1290.,1450.,'OI1304',1,2e-3,0.001,0.015,0.01,1,1,0,0.001),\\\n",
    "                        \n",
    "                        # (1215.67,'Lya',1150.,1290.,'Lya_br',3,5e-3,0.004,0.05,0.02,0,0,0,0.05),\\\n",
    "                        # (1215.67,'Lya',1150.,1290.,'Lya_na',1,1e-3,5e-4,0.0017,0.01,0,0,0,0.002),\\\n",
    "                        # (1240.14,'Lya',1150.,1290.,'NV',1,1e-3,5e-4,0.0017,0.01,0,0,0,0.002)\\\n",
    "                        ],\\\n",
    "                     formats='float32,a20,float32,float32,a20,float32,float32,float32,float32,\\\n",
    "                     float32,float32,float32,float32,float32',\\\n",
    "                     names='lambda,compname,minwav,maxwav,linename,ngauss,inisig,minsig,maxsig,voff,vindex,windex,findex,fvalue')\n",
    "#------header-----------------\n",
    "hdr = fits.Header()\n",
    "hdr['lambda'] = 'Vacuum Wavelength in Ang'\n",
    "hdr['minwav'] = 'Lower complex fitting wavelength range'\n",
    "hdr['maxwav'] = 'Upper complex fitting wavelength range'\n",
    "hdr['ngauss'] = 'Number of Gaussians for the line'\n",
    "hdr['inisig'] = 'Initial guess of linesigma [in lnlambda]'\n",
    "hdr['minsig'] = 'Lower range of line sigma [lnlambda]'  \n",
    "hdr['maxsig'] = 'Upper range of line sigma [lnlambda]'\n",
    "hdr['voff  '] = 'Limits on velocity offset from the central wavelength [lnlambda]'\n",
    "hdr['vindex'] = 'Entries w/ same NONZERO vindex constrained to have same velocity'\n",
    "hdr['windex'] = 'Entries w/ same NONZERO windex constrained to have same width'\n",
    "hdr['findex'] = 'Entries w/ same NONZERO findex have constrained flux ratios'\n",
    "hdr['fvalue'] = 'Relative scale factor for entries w/ same findex'\n",
    "#------save line info-----------\n",
    "hdu = fits.BinTableHDU(data=newdata,header=hdr,name='data')\n",
    "hdu.writeto(path+'qsopar.fits',overwrite=True)"
   ],
   "outputs": [],
   "metadata": {
    "ExecuteTime": {
     "end_time": "2021-08-05T04:34:24.495487Z",
     "start_time": "2021-08-05T04:34:24.429145Z"
    }
   }
  }
 ],
 "metadata": {
  "kernelspec": {
   "name": "python3",
   "display_name": "Python 3.8.8 64-bit ('base': conda)"
  },
  "language_info": {
   "codemirror_mode": {
    "name": "ipython",
    "version": 3
   },
   "file_extension": ".py",
   "mimetype": "text/x-python",
   "name": "python",
   "nbconvert_exporter": "python",
   "pygments_lexer": "ipython3",
   "version": "3.8.8"
  },
  "interpreter": {
   "hash": "99919c7503c99e6d98518260503db475b3d95fe75f436d29561ee359b1194076"
  }
 },
 "nbformat": 4,
 "nbformat_minor": 4
}